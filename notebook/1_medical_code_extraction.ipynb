{
 "cells": [
  {
   "cell_type": "markdown",
   "id": "357fe949-7e56-46fe-9e65-83b4bb4b3c66",
   "metadata": {
    "collapsed": false,
    "name": "mk1"
   },
   "source": [
    "# Healthcare Data Processing- Medical coding and extraction of ICD-10 codes"
   ]
  },
  {
   "cell_type": "markdown",
   "id": "cb3ef10f-4efe-44a8-ac8d-21b59272cb43",
   "metadata": {
    "collapsed": false,
    "name": "importpackages"
   },
   "source": [
    "# Import packages"
   ]
  },
  {
   "cell_type": "code",
   "execution_count": null,
   "id": "3775908f-ca36-4846-8f38-5adca39217f2",
   "metadata": {
    "collapsed": false,
    "language": "python",
    "name": "import_packages"
   },
   "outputs": [],
   "source": [
    "# Import python packages\n",
    "import streamlit as st\n",
    "import pandas as pd\n",
    "\n",
    "# We can also use Snowpark for our analyses!\n",
    "from snowflake.snowpark.context import get_active_session\n",
    "session = get_active_session()\n",
    "\n",
    "# Add a query tag to the session.\n",
    "session.query_tag = {\"origin\":\"sf_sit-is\", \"name\":\"Healthcare_Code_Extraction\", \"version\":{\"major\":1, \"minor\":0}}"
   ]
  },
  {
   "cell_type": "markdown",
   "id": "a45ab17a-eaf9-424f-8088-f9d19b7354f0",
   "metadata": {
    "collapsed": false,
    "name": "dataingestion"
   },
   "source": [
    "# DATA ENGINEERING\n",
    "* A file format custom_PDF is created, and an external stage REPORTS_DATA is defined, pointing to an S3 bucket. This will store PDFs to be analyzed."
   ]
  },
  {
   "cell_type": "code",
   "execution_count": null,
   "id": "308baf69-46b3-4785-b30b-85be3b838203",
   "metadata": {
    "collapsed": false,
    "language": "sql",
    "name": "ext_stage"
   },
   "outputs": [],
   "source": [
    "create or replace file format custom_PDF;\n",
    "-- Create external stage\n",
    "\n",
    "CREATE or replace STAGE REPORTS_DATA\n",
    "    URL='s3://sfquickstarts/sfguide_llm_assisted_medical_coding_extraction_for_healthcare_in_snowflake/'\n",
    "    DIRECTORY = ( ENABLE = true )\n",
    "    FILE_FORMAT = custom_PDF;\n",
    "\n",
    "-- Inspect content of stage\n",
    "LS @REPORTS_DATA;"
   ]
  },
  {
   "cell_type": "markdown",
   "id": "01954869-8317-47a5-817c-e185b14e0344",
   "metadata": {
    "collapsed": false,
    "name": "cell2"
   },
   "source": [
    "### A pdf_text_chunker extracts text from PDFs in REPORTS_DATA using PyPDF2 and langchain's RecursiveCharacterTextSplitter.\n",
    "* Text is chunked into sections for easier processing, allowing overlap for context."
   ]
  },
  {
   "cell_type": "code",
   "execution_count": null,
   "id": "9a36f85f-df6d-48b9-8cd0-5dcc9f9b564a",
   "metadata": {
    "collapsed": false,
    "language": "sql",
    "name": "pdf_text_chunker"
   },
   "outputs": [],
   "source": [
    "\n",
    "create or replace function pdf_text_chunker(file_url string)\n",
    "returns table (chunk varchar)\n",
    "language python\n",
    "runtime_version = '3.9'\n",
    "handler = 'pdf_text_chunker'\n",
    "packages = ('snowflake-snowpark-python','PyPDF2', 'langchain')\n",
    "as\n",
    "$$\n",
    "from snowflake.snowpark.types import StringType, StructField, StructType\n",
    "from langchain.text_splitter import RecursiveCharacterTextSplitter\n",
    "from snowflake.snowpark.files import SnowflakeFile\n",
    "import PyPDF2, io\n",
    "import logging\n",
    "import pandas as pd\n",
    "class pdf_text_chunker:\n",
    "    def read_pdf(self, file_url: str) -> str:\n",
    "        logger = logging.getLogger(\"udf_logger\")\n",
    "        logger.info(f\"Opening file {file_url}\")\n",
    "        with SnowflakeFile.open(file_url, 'rb') as f:\n",
    "            buffer = io.BytesIO(f.readall())\n",
    "        reader = PyPDF2.PdfReader(buffer)\n",
    "        text = \"\"\n",
    "        for page in reader.pages:\n",
    "            try:\n",
    "                text += page.extract_text().replace('\\n', ' ').replace('\\0', ' ')\n",
    "            except:\n",
    "                text = \"Unable to Extract\"\n",
    "                logger.warn(f\"Unable to extract from file {file_url}, page {page}\")\n",
    "        return text\n",
    "    def process(self,file_url: str):\n",
    "        text = self.read_pdf(file_url)\n",
    "        text_splitter = RecursiveCharacterTextSplitter(\n",
    "            chunk_size = 4000, #Adjust this as you see fit\n",
    "            chunk_overlap  = 400, #This let's text have some form of overlap. Useful for keeping chunks contextual\n",
    "            length_function = len\n",
    "        )\n",
    "        chunks = text_splitter.split_text(text)\n",
    "        df = pd.DataFrame(chunks, columns=['chunks'])\n",
    "        yield from df.itertuples(index=False, name=None)\n",
    "$$;\n",
    "\n"
   ]
  },
  {
   "cell_type": "code",
   "execution_count": null,
   "id": "ff4b4b75-3162-421b-a30b-16c121fcfbdf",
   "metadata": {
    "codeCollapsed": false,
    "collapsed": false,
    "language": "sql",
    "name": "REPORTS_DATA_dir"
   },
   "outputs": [],
   "source": [
    "select * from directory(@REPORTS_DATA);"
   ]
  },
  {
   "cell_type": "code",
   "execution_count": null,
   "id": "20a78244-aafc-4cf0-af99-1fdd58760314",
   "metadata": {
    "collapsed": false,
    "language": "sql",
    "name": "DOCS_CHUNKS_TABLE_create"
   },
   "outputs": [],
   "source": [
    "create or replace TABLE DOCS_CHUNKS_TABLE (\n",
    "    RELATIVE_PATH VARCHAR(16777216),\n",
    "    SIZE NUMBER(38,0),\n",
    "    FILE_URL VARCHAR(16777216),\n",
    "    SCOPED_FILE_URL VARCHAR(16777216),\n",
    "    CHUNK VARCHAR(16777216),\n",
    "    CHUNK_VEC VECTOR(FLOAT, 768) ); "
   ]
  },
  {
   "cell_type": "code",
   "execution_count": null,
   "id": "727489c4-64e2-41c7-9cbe-6044d776dc94",
   "metadata": {
    "language": "sql",
    "name": "REPORTS_DATA_table"
   },
   "outputs": [],
   "source": [
    "CREATE OR REPLACE TABLE REPORTS_DATA_table (\n",
    "  path string,\n",
    "  fileurl string,\n",
    "  SIZE NUMBER(38,0)\n",
    ");\n",
    "\n",
    "insert into REPORTS_DATA_table(path,FILEURL,size) select RELATIVE_PATH,FILE_URL,SIZE from directory(@REPORTS_DATA);\n"
   ]
  },
  {
   "cell_type": "markdown",
   "id": "85cc51f6-d99c-46d7-921b-716149ae899b",
   "metadata": {
    "collapsed": false,
    "name": "cell3"
   },
   "source": [
    "## The pdf_text_chunker function is invoke using the scopd file URL and the output is stored in docs_chunks_table with each chunk vectorized by snowflake.cortex.embed_text (768-dimensional vector).\n"
   ]
  },
  {
   "cell_type": "code",
   "execution_count": null,
   "id": "77bfa5a1-1542-4dee-8ea7-4bdac59db1b9",
   "metadata": {
    "collapsed": false,
    "language": "sql",
    "name": "insertintotable"
   },
   "outputs": [],
   "source": [
    "INSERT INTO docs_chunks_table (relative_path,SIZE, file_url, scoped_file_url, chunk, chunk_vec)\n",
    "SELECT path,\n",
    "SIZE,\n",
    "       fileurl,\n",
    "       BUILD_SCOPED_FILE_URL(@REPORTS_DATA, path) AS scoped_file_url, \n",
    "       func.chunk AS chunk,\n",
    "      snowflake.cortex.embed_text_768('e5-base-v2', func.chunk) AS chunk_vec\n",
    "FROM REPORTS_DATA_table,TABLE(pdf_text_chunker(BUILD_SCOPED_FILE_URL(@REPORTS_DATA, path))) AS func;\n"
   ]
  },
  {
   "cell_type": "code",
   "execution_count": null,
   "id": "a018981f-e412-4445-8d22-de8c86434b89",
   "metadata": {
    "collapsed": false,
    "language": "sql",
    "name": "docs_chunks_table"
   },
   "outputs": [],
   "source": [
    "SELECT * FROM docs_chunks_table;"
   ]
  },
  {
   "cell_type": "code",
   "execution_count": null,
   "id": "8bd58774-0555-4a4d-8a16-6998a511fb01",
   "metadata": {
    "language": "sql",
    "name": "group_numofchunks"
   },
   "outputs": [],
   "source": [
    "select relative_path, count(*) as num_chunks\n",
    "    from docs_chunks_table\n",
    "    group by relative_path\n",
    "    order by num_chunks desc;"
   ]
  },
  {
   "cell_type": "code",
   "execution_count": null,
   "id": "dfd6b30e-303e-4e95-a936-e7be06fa8907",
   "metadata": {
    "language": "sql",
    "name": "docs_and_text"
   },
   "outputs": [],
   "source": [
    "create or replace transient table docs_and_text as\n",
    "select\n",
    "    relative_path ,\n",
    "    listagg(chunk ,' ') as doc_text,\n",
    "    null as report,\n",
    "    null as specialty\n",
    "from docs_chunks_table\n",
    "where relative_path like '%.pdf'\n",
    "group by all;"
   ]
  },
  {
   "cell_type": "code",
   "execution_count": null,
   "id": "21007b19-5813-41ea-aab7-1be48ce852dc",
   "metadata": {
    "collapsed": false,
    "language": "sql",
    "name": "base_table"
   },
   "outputs": [],
   "source": [
    "SELECT * FROM docs_and_text LIMIT 5;"
   ]
  },
  {
   "cell_type": "code",
   "execution_count": null,
   "id": "71f68722-2226-4caa-8be0-8a078d67b5ad",
   "metadata": {
    "collapsed": false,
    "language": "sql",
    "name": "numberofsamples"
   },
   "outputs": [],
   "source": [
    "select count(*) from docs_and_text;"
   ]
  },
  {
   "cell_type": "markdown",
   "id": "a49c5fe1-1274-4d3d-94a0-a6c1903925df",
   "metadata": {
    "collapsed": false,
    "name": "mk2"
   },
   "source": [
    "### Extract the speciality and the report summary"
   ]
  },
  {
   "cell_type": "code",
   "execution_count": null,
   "id": "ebf84c56-649f-4137-8f12-e0dbe4eaad74",
   "metadata": {
    "language": "sql",
    "name": "update_speciality"
   },
   "outputs": [],
   "source": [
    "UPDATE docs_and_text as l\n",
    "SET l.report = r.report\n",
    "    ,l.specialty = r.specialty\n",
    "FROM (\n",
    "    select relative_path,\n",
    "    SNOWFLAKE.CORTEX.Complete ('mixtral-8x7b', concat(doc_text||\n",
    "        ' In less than 5 words, how would you best describe the type of the document content? \n",
    "        Do not provide explanation. Remove special characters')) as report,\n",
    "    SNOWFLAKE.CORTEX.EXTRACT_ANSWER (doc_text,\n",
    "        'What is the medical specialty?')[0]:answer::varchar as specialty,\n",
    "    from docs_and_text) as r\n",
    "where l.relative_path = r.relative_path;\n"
   ]
  },
  {
   "cell_type": "code",
   "execution_count": null,
   "id": "0b1981ba-e45e-494a-98d4-98a37dfd5d8e",
   "metadata": {
    "language": "sql",
    "name": "docs_and_text_speciality"
   },
   "outputs": [],
   "source": [
    "SELECT * FROM docs_and_text LIMIT 5;"
   ]
  },
  {
   "cell_type": "markdown",
   "id": "d65b4e4f-fbb8-4e6e-8fa5-a39d8c62b9d6",
   "metadata": {
    "collapsed": false,
    "name": "distillationflow"
   },
   "source": [
    "# DISTILLATION FLOW - USING LLAMA3.1-405B\n",
    "\n",
    "#### The model llama3.1-405b is used to extract ICD-10 codes from medical documents by prompting Snowflake Cortex to identify relevant codes. Outputs are stored in a table called LLAMA_OUTPUT_ICD."
   ]
  },
  {
   "cell_type": "markdown",
   "id": "dbb5f059-0e84-488c-8fac-a1e027c8471e",
   "metadata": {
    "collapsed": false,
    "name": "distillation_flow"
   },
   "source": []
  },
  {
   "cell_type": "code",
   "execution_count": null,
   "id": "36ba8004-cc59-44c3-b3a0-37438274e45c",
   "metadata": {
    "collapsed": false,
    "language": "sql",
    "name": "distillation_flow_with_largemodel"
   },
   "outputs": [],
   "source": [
    "CREATE or replace table LLAMA_OUTPUT_ICD as\n",
    "select relative_path,\n",
    "doc_text,\n",
    "report,\n",
    "specialty,\n",
    "SNOWFLAKE.CORTEX.COMPLETE('llama3.1-405b', concat(doc_text||'Given this medical transcript, list the unique major ICD10-CM diagnosis code in this format ONLY: X##.#. Please provide the response in the form of a python list. Do not provide explanation')) as AI_ICD10_Code\n",
    "from docs_and_text;\n"
   ]
  },
  {
   "cell_type": "code",
   "execution_count": null,
   "id": "6ff28a79-b2b6-4bef-873d-13fdb2184f4d",
   "metadata": {
    "collapsed": false,
    "language": "sql",
    "name": "llama_icd_largemodel"
   },
   "outputs": [],
   "source": [
    "select * from LLAMA_OUTPUT_ICD limit 5;"
   ]
  },
  {
   "cell_type": "markdown",
   "id": "3635b754-cdd4-4592-bc55-fa676c7d62b3",
   "metadata": {
    "collapsed": false,
    "name": "splitdataset"
   },
   "source": [
    "* Carry 70:30 split for model fine tuning"
   ]
  },
  {
   "cell_type": "code",
   "execution_count": null,
   "id": "26e8fd96-15d5-4538-a0ca-c557d502cbdf",
   "metadata": {
    "collapsed": false,
    "language": "sql",
    "name": "split_dataset"
   },
   "outputs": [],
   "source": [
    "CREATE OR REPLACE TEMPORARY TABLE temp_split_table AS\n",
    "WITH numbered_rows AS (\n",
    "  SELECT *,\n",
    "         ROW_NUMBER() OVER (ORDER BY RANDOM()) AS row_num,\n",
    "         COUNT(*) OVER() AS total_rows\n",
    "  FROM LLAMA_OUTPUT_ICD\n",
    ")\n",
    "\n",
    "\n",
    "SELECT *,\n",
    "       CASE \n",
    "         WHEN row_num < total_rows * 0.7 THEN 'train'\n",
    "         WHEN row_num > total_rows * 0.7 AND row_num <= total_rows * 0.85 THEN 'val'\n",
    "         ELSE 'test'\n",
    "       END AS split\n",
    "FROM numbered_rows;\n",
    "\n",
    "CREATE or replace TABLE  codeextraction_training AS\n",
    "SELECT relative_path,\n",
    "doc_text,\n",
    "report,\n",
    "specialty,AI_ICD10_Code\n",
    "FROM temp_split_table\n",
    "WHERE split = 'train';\n",
    "\n",
    "CREATE  or replace TABLE   codeextraction_test AS\n",
    "SELECT relative_path,\n",
    "doc_text,\n",
    "report,\n",
    "specialty,AI_ICD10_Code\n",
    "FROM temp_split_table\n",
    "WHERE split = 'test';\n",
    "\n",
    "CREATE  or replace TABLE codeextraction_val AS\n",
    "SELECT relative_path,\n",
    "doc_text,\n",
    "report,\n",
    "specialty,AI_ICD10_Code\n",
    "FROM temp_split_table\n",
    "WHERE split = 'val';\n",
    "\n"
   ]
  },
  {
   "cell_type": "code",
   "execution_count": null,
   "id": "b64161d2-24a3-48f4-987f-b3eb452ec992",
   "metadata": {
    "collapsed": false,
    "language": "sql",
    "name": "sampledata_viewer"
   },
   "outputs": [],
   "source": [
    "select * from codeextraction_training limit 2;"
   ]
  },
  {
   "cell_type": "markdown",
   "id": "25d9f152-1600-47ac-9af4-cf4965e862c3",
   "metadata": {
    "collapsed": false,
    "name": "BASELINE"
   },
   "source": [
    "# BASELINE OUTPUT FROM THE SMALLER MODEL llama3-8b (Optional)"
   ]
  },
  {
   "cell_type": "code",
   "execution_count": null,
   "id": "0bd9a3a9-b456-4ce0-87f4-4e70ed426cc0",
   "metadata": {
    "collapsed": false,
    "language": "sql",
    "name": "llama38b_ICDOutput_smallmodel"
   },
   "outputs": [],
   "source": [
    "create or replace table llama38b_ICDOutput as select relative_path,\n",
    "doc_text,\n",
    "report,\n",
    "specialty,\n",
    "AI_ICD10_Code,\n",
    "SNOWFLAKE.CORTEX.COMPLETE('llama3-8b', concat(doc_text||'Given this medical transcript, list the unique major ICD10-CM diagnosis code in this format ONLY: X##.#. Please provide the response in the form of a python list. Do not provide explanation')) as llama38b_ICD10_Code\n",
    "from LLAMA_OUTPUT_ICD;"
   ]
  },
  {
   "cell_type": "code",
   "execution_count": null,
   "id": "534426eb-7066-4018-bee7-ed271c280ba2",
   "metadata": {
    "collapsed": false,
    "language": "sql",
    "name": "basemodelpromptengineered"
   },
   "outputs": [],
   "source": [
    "SELECT * FROM llama38b_ICDOutput limit 5;"
   ]
  },
  {
   "cell_type": "markdown",
   "id": "558b5e56-1550-4348-b9f7-892a8e3aae06",
   "metadata": {
    "collapsed": false,
    "name": "finetuning"
   },
   "source": [
    "# FINE TUNE llama3-8b\n",
    "\n",
    "Cortex Fine-tuning allows users to leverage parameter-efficient fine-tuning (PEFT) to create customized adaptors for use with pre-trained models on more specialized tasks. If you don’t want the high cost of training a large model from scratch but need better latency and results than you’re getting from prompt engineering or even retrieval augmented generation (RAG) methods, fine-tuning an existing large model is an option. Fine-tuning allows you to use examples to adjust the behavior of the model and improve the model’s knowledge of domain-specific tasks."
   ]
  },
  {
   "cell_type": "code",
   "execution_count": null,
   "id": "99149d0d-59c0-4f8c-82da-feb081f488c0",
   "metadata": {
    "collapsed": false,
    "language": "sql",
    "name": "FineTuningllama3_8b"
   },
   "outputs": [],
   "source": [
    "SELECT SNOWFLAKE.CORTEX.FINETUNE(\n",
    "    'CREATE', \n",
    "    -- Custom model name, make sure name below is unique\n",
    "    'FINETUNE_llama38b_ICDCODES',\n",
    "    -- Base model name\n",
    "    'llama3-8b',\n",
    "    -- Training data query\n",
    "    'SELECT doc_text || '' Given this medical transcript, list the unique major ICD10-CM diagnosis code in this format ONLY: X##.#. Please provide the response in the form of a python list. Do not provide explanation '' AS PROMPT, AI_ICD10_Code AS COMPLETION FROM codeextraction_training',\n",
    "    -- Test data query \n",
    "    'SELECT doc_text || '' Given this medical transcript, list the unique major ICD10-CM diagnosis code in this format ONLY: X##.#. Please provide the response in the form of a python list. Do not provide explanation '' AS PROMPT, AI_ICD10_Code AS COMPLETION FROM codeextraction_val'\n",
    ");\n"
   ]
  },
  {
   "cell_type": "code",
   "execution_count": null,
   "id": "cc5c254e-b9c6-45ab-9488-f844cefdc21d",
   "metadata": {
    "collapsed": false,
    "language": "sql",
    "name": "describeprocess"
   },
   "outputs": [],
   "source": [
    "-- The output is the job ID of the fine-tuning job:\n",
    "Select SNOWFLAKE.CORTEX.FINETUNE(\n",
    "  'DESCRIBE',\n",
    "'CortexFineTuningWorkflow_5f63e53e-0c49-4af7-93c5-82675b433629');--replace <> with the workflow id returned from the execution of last cell"
   ]
  },
  {
   "cell_type": "markdown",
   "id": "ab8e900a-9800-4e1c-a3c0-74e1219c07fd",
   "metadata": {
    "collapsed": false,
    "name": "STOP"
   },
   "source": [
    "# STOP -  PROCEED ONLY WHEN THE STATUS FIELD FOR THE JOB CHANGES TO SUCCESS IN THE PREVIOUS CELL"
   ]
  },
  {
   "cell_type": "markdown",
   "id": "350aa1b6-e3f9-4368-a296-fb9ae6417217",
   "metadata": {
    "collapsed": false,
    "name": "inference"
   },
   "source": [
    "# INFERENCE USING FINE TUNED MODEL (AFTER ENSURING THE MOEL TUNING WAS SUCCESSFUL)"
   ]
  },
  {
   "cell_type": "code",
   "execution_count": null,
   "id": "14a94735-1480-44fd-bb3f-2883079cb71d",
   "metadata": {
    "collapsed": false,
    "language": "sql",
    "name": "createtable_llama38b_ICD_Code"
   },
   "outputs": [],
   "source": [
    "create or replace TABLE  llama38b_ICD_Codes as select relative_path,\n",
    "doc_text,\n",
    "report,\n",
    "specialty,\n",
    "SNOWFLAKE.CORTEX.COMPLETE('FINETUNE_llama38b_ICDCODES', concat(doc_text||'Given this medical transcript, list the unique major ICD10-CM diagnosis code in this format ONLY: X##.#. Please provide the response in the form of a python list. Do not provide explanation')) as FT_ICD10_Code\n",
    "from codeextraction_training;"
   ]
  },
  {
   "cell_type": "markdown",
   "id": "6571b578-c550-4121-9ed8-844c319a8d27",
   "metadata": {
    "collapsed": false,
    "name": "eval"
   },
   "source": [
    "# Benefits of using the Fine Tuned Model:\n",
    "\n",
    "## 1. Higher Accuracy as that of Larger Model -> HIGH ACCURACY\n",
    "## 2. Smaller Model -> LOWER COST\n",
    "## 3. Higher Throughput -> Smaller Model -> HIGH THROUGHPUT"
   ]
  },
  {
   "cell_type": "markdown",
   "id": "83936f5a-b846-45fc-b78d-d79e3c76b19c",
   "metadata": {
    "collapsed": false,
    "name": "mk7"
   },
   "source": [
    "## Extract codes from Fine Tuned Model"
   ]
  },
  {
   "cell_type": "code",
   "execution_count": null,
   "id": "e6e8a3c1-c787-46ad-b390-f6f9dc70dcfa",
   "metadata": {
    "collapsed": false,
    "language": "python",
    "name": "llama38b_ICD_Code"
   },
   "outputs": [],
   "source": [
    "llama38b_ICD_Code_FT_df=session.table('llama38b_ICD_Codes').to_pandas()\n",
    "llama38b_ICD_Code_FT_df.head(50)"
   ]
  },
  {
   "cell_type": "markdown",
   "id": "47f5f0d2-1213-41fd-8619-f3236cc0c80d",
   "metadata": {
    "collapsed": false,
    "name": "endofnotebook"
   },
   "source": [
    "# END OF NOTEBOOK"
   ]
  }
 ],
 "metadata": {
  "kernelspec": {
   "display_name": "Streamlit Notebook",
   "name": "streamlit"
  }
 },
 "nbformat": 4,
 "nbformat_minor": 5
}
