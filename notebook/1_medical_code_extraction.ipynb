{
 "metadata": {
  "kernelspec": {
   "display_name": "Streamlit Notebook",
   "name": "streamlit"
  }
 },
 "nbformat_minor": 5,
 "nbformat": 4,
 "cells": [
  {
   "cell_type": "markdown",
   "id": "357fe949-7e56-46fe-9e65-83b4bb4b3c66",
   "metadata": {
    "name": "mk1",
    "collapsed": false
   },
   "source": "# Healthcare Data Processing- Medical coding and extraction of ICD-10 codes"
  },
  {
   "cell_type": "markdown",
   "id": "cb3ef10f-4efe-44a8-ac8d-21b59272cb43",
   "metadata": {
    "name": "importpackages",
    "collapsed": false
   },
   "source": "# Import packages"
  },
  {
   "cell_type": "code",
   "id": "3775908f-ca36-4846-8f38-5adca39217f2",
   "metadata": {
    "language": "python",
    "name": "import_packages",
    "collapsed": false
   },
   "source": "# Import python packages\nimport streamlit as st\nimport pandas as pd\n\n# We can also use Snowpark for our analyses!\nfrom snowflake.snowpark.context import get_active_session\nsession = get_active_session()\n\n# Add a query tag to the session.\nsession.query_tag = {\"origin\":\"sf_sit-is\", \"name\":\"Healthcare_Code_Extraction\", \"version\":{\"major\":1, \"minor\":0}}",
   "execution_count": null,
   "outputs": []
  },
  {
   "cell_type": "markdown",
   "id": "a45ab17a-eaf9-424f-8088-f9d19b7354f0",
   "metadata": {
    "name": "dataingestion",
    "collapsed": false
   },
   "source": "# DATA ENGINEERING\n* A file format custom_PDF is created, and an external stage REPORTS_DATA is defined, pointing to an S3 bucket. This will store PDFs to be analyzed."
  },
  {
   "cell_type": "code",
   "id": "308baf69-46b3-4785-b30b-85be3b838203",
   "metadata": {
    "language": "sql",
    "name": "ext_stage",
    "collapsed": false
   },
   "outputs": [],
   "source": "create or replace file format custom_PDF;\n-- Create external stage\n\nCREATE or replace STAGE REPORTS_DATA\n    URL='s3://sfquickstarts/sfguide_llm_assisted_medical_coding_extraction_for_healthcare_in_snowflake/'\n    DIRECTORY = ( ENABLE = true )\n    FILE_FORMAT = custom_PDF;\n\n-- Inspect content of stage\nLS @REPORTS_DATA;",
   "execution_count": null
  },
  {
   "cell_type": "markdown",
   "id": "01954869-8317-47a5-817c-e185b14e0344",
   "metadata": {
    "name": "cell2",
    "collapsed": false
   },
   "source": "### A pdf_text_chunker extracts text from PDFs in REPORTS_DATA using PyPDF2 and langchain's RecursiveCharacterTextSplitter.\n* Text is chunked into sections for easier processing, allowing overlap for context."
  },
  {
   "cell_type": "code",
   "id": "9a36f85f-df6d-48b9-8cd0-5dcc9f9b564a",
   "metadata": {
    "language": "sql",
    "name": "pdf_text_chunker",
    "collapsed": false
   },
   "outputs": [],
   "source": "\ncreate or replace function pdf_text_chunker(file_url string)\nreturns table (chunk varchar)\nlanguage python\nruntime_version = '3.9'\nhandler = 'pdf_text_chunker'\npackages = ('snowflake-snowpark-python','PyPDF2', 'langchain')\nas\n$$\nfrom snowflake.snowpark.types import StringType, StructField, StructType\nfrom langchain.text_splitter import RecursiveCharacterTextSplitter\nfrom snowflake.snowpark.files import SnowflakeFile\nimport PyPDF2, io\nimport logging\nimport pandas as pd\nclass pdf_text_chunker:\n    def read_pdf(self, file_url: str) -> str:\n        logger = logging.getLogger(\"udf_logger\")\n        logger.info(f\"Opening file {file_url}\")\n        with SnowflakeFile.open(file_url, 'rb') as f:\n            buffer = io.BytesIO(f.readall())\n        reader = PyPDF2.PdfReader(buffer)\n        text = \"\"\n        for page in reader.pages:\n            try:\n                text += page.extract_text().replace('\\n', ' ').replace('\\0', ' ')\n            except:\n                text = \"Unable to Extract\"\n                logger.warn(f\"Unable to extract from file {file_url}, page {page}\")\n        return text\n    def process(self,file_url: str):\n        text = self.read_pdf(file_url)\n        text_splitter = RecursiveCharacterTextSplitter(\n            chunk_size = 4000, #Adjust this as you see fit\n            chunk_overlap  = 400, #This let's text have some form of overlap. Useful for keeping chunks contextual\n            length_function = len\n        )\n        chunks = text_splitter.split_text(text)\n        df = pd.DataFrame(chunks, columns=['chunks'])\n        yield from df.itertuples(index=False, name=None)\n$$;\n\n",
   "execution_count": null
  },
  {
   "cell_type": "code",
   "id": "ff4b4b75-3162-421b-a30b-16c121fcfbdf",
   "metadata": {
    "language": "sql",
    "name": "REPORTS_DATA_dir",
    "collapsed": false,
    "codeCollapsed": false
   },
   "outputs": [],
   "source": "select * from directory(@REPORTS_DATA);",
   "execution_count": null
  },
  {
   "cell_type": "code",
   "id": "20a78244-aafc-4cf0-af99-1fdd58760314",
   "metadata": {
    "language": "sql",
    "name": "DOCS_CHUNKS_TABLE_create",
    "collapsed": false
   },
   "outputs": [],
   "source": "create or replace TABLE DOCS_CHUNKS_TABLE (\n    RELATIVE_PATH VARCHAR(16777216),\n    SIZE NUMBER(38,0),\n    FILE_URL VARCHAR(16777216),\n    SCOPED_FILE_URL VARCHAR(16777216),\n    CHUNK VARCHAR(16777216),\n    CHUNK_VEC VECTOR(FLOAT, 768) ); ",
   "execution_count": null
  },
  {
   "cell_type": "code",
   "id": "727489c4-64e2-41c7-9cbe-6044d776dc94",
   "metadata": {
    "language": "sql",
    "name": "REPORTS_DATA_table"
   },
   "outputs": [],
   "source": "CREATE OR REPLACE TABLE REPORTS_DATA_table (\n  path string,\n  fileurl string,\n  SIZE NUMBER(38,0)\n);\n\ninsert into REPORTS_DATA_table(path,FILEURL,size) select RELATIVE_PATH,FILE_URL,SIZE from directory(@REPORTS_DATA);\n",
   "execution_count": null
  },
  {
   "cell_type": "markdown",
   "id": "85cc51f6-d99c-46d7-921b-716149ae899b",
   "metadata": {
    "name": "cell3",
    "collapsed": false
   },
   "source": "## The pdf_text_chunker function is invoke using the scopd file URL and the output is stored in docs_chunks_table with each chunk vectorized by snowflake.cortex.embed_text (768-dimensional vector).\n"
  },
  {
   "cell_type": "code",
   "id": "77bfa5a1-1542-4dee-8ea7-4bdac59db1b9",
   "metadata": {
    "language": "sql",
    "name": "insertintotable",
    "collapsed": false
   },
   "outputs": [],
   "source": "INSERT INTO docs_chunks_table (relative_path,SIZE, file_url, scoped_file_url, chunk, chunk_vec)\nSELECT path,\nSIZE,\n       fileurl,\n       BUILD_SCOPED_FILE_URL(@REPORTS_DATA, path) AS scoped_file_url, \n       func.chunk AS chunk,\n      snowflake.cortex.embed_text_768('e5-base-v2', func.chunk) AS chunk_vec\nFROM REPORTS_DATA_table,TABLE(pdf_text_chunker(BUILD_SCOPED_FILE_URL(@REPORTS_DATA, path))) AS func;\n",
   "execution_count": null
  },
  {
   "cell_type": "code",
   "id": "a018981f-e412-4445-8d22-de8c86434b89",
   "metadata": {
    "language": "sql",
    "name": "docs_chunks_table",
    "collapsed": false
   },
   "outputs": [],
   "source": "SELECT * FROM docs_chunks_table;",
   "execution_count": null
  },
  {
   "cell_type": "code",
   "id": "8bd58774-0555-4a4d-8a16-6998a511fb01",
   "metadata": {
    "language": "sql",
    "name": "group_numofchunks"
   },
   "outputs": [],
   "source": "select relative_path, count(*) as num_chunks\n    from docs_chunks_table\n    group by relative_path\n    order by num_chunks desc;",
   "execution_count": null
  },
  {
   "cell_type": "code",
   "id": "dfd6b30e-303e-4e95-a936-e7be06fa8907",
   "metadata": {
    "language": "sql",
    "name": "docs_and_text"
   },
   "outputs": [],
   "source": "create or replace transient table docs_and_text as\nselect\n    relative_path ,\n    listagg(chunk ,' ') as doc_text,\n    null as report,\n    null as specialty\nfrom docs_chunks_table\nwhere relative_path like '%.pdf'\ngroup by all;",
   "execution_count": null
  },
  {
   "cell_type": "code",
   "id": "21007b19-5813-41ea-aab7-1be48ce852dc",
   "metadata": {
    "language": "sql",
    "name": "base_table",
    "collapsed": false
   },
   "outputs": [],
   "source": "SELECT * FROM docs_and_text LIMIT 5;",
   "execution_count": null
  },
  {
   "cell_type": "code",
   "id": "71f68722-2226-4caa-8be0-8a078d67b5ad",
   "metadata": {
    "language": "sql",
    "name": "numberofsamples",
    "collapsed": false
   },
   "outputs": [],
   "source": "select count(*) from docs_and_text;",
   "execution_count": null
  },
  {
   "cell_type": "markdown",
   "id": "a49c5fe1-1274-4d3d-94a0-a6c1903925df",
   "metadata": {
    "name": "mk2",
    "collapsed": false
   },
   "source": "### Extract the speciality and the report summary"
  },
  {
   "cell_type": "code",
   "id": "ebf84c56-649f-4137-8f12-e0dbe4eaad74",
   "metadata": {
    "language": "sql",
    "name": "update_speciality"
   },
   "outputs": [],
   "source": "UPDATE docs_and_text as l\nSET l.report = r.report\n    ,l.specialty = r.specialty\nFROM (\n    select relative_path,\n    SNOWFLAKE.CORTEX.Complete ('mixtral-8x7b', concat(doc_text||\n        ' In less than 5 words, how would you best describe the type of the document content? \n        Do not provide explanation. Remove special characters')) as report,\n    SNOWFLAKE.CORTEX.EXTRACT_ANSWER (doc_text,\n        'What is the medical specialty?')[0]:answer::varchar as specialty,\n    from docs_and_text) as r\nwhere l.relative_path = r.relative_path;\n",
   "execution_count": null
  },
  {
   "cell_type": "code",
   "id": "0b1981ba-e45e-494a-98d4-98a37dfd5d8e",
   "metadata": {
    "language": "sql",
    "name": "docs_and_text_speciality"
   },
   "outputs": [],
   "source": "SELECT * FROM docs_and_text LIMIT 5;",
   "execution_count": null
  },
  {
   "cell_type": "markdown",
   "id": "d65b4e4f-fbb8-4e6e-8fa5-a39d8c62b9d6",
   "metadata": {
    "name": "distillationflow",
    "collapsed": false
   },
   "source": "# DISTILLATION FLOW - USING LLAMA3.1-405B\n\n#### The model llama3.1-405b is used to extract ICD-10 codes from medical documents by prompting Snowflake Cortex to identify relevant codes. Outputs are stored in a table called LLAMA_OUTPUT_ICD."
  },
  {
   "cell_type": "markdown",
   "id": "dbb5f059-0e84-488c-8fac-a1e027c8471e",
   "metadata": {
    "name": "distillation_flow",
    "collapsed": false
   },
   "source": ""
  },
  {
   "cell_type": "code",
   "id": "36ba8004-cc59-44c3-b3a0-37438274e45c",
   "metadata": {
    "language": "sql",
    "name": "distillation_flow_with_largemodel",
    "collapsed": false
   },
   "outputs": [],
   "source": "CREATE or replace table LLAMA_OUTPUT_ICD as\nselect relative_path,\ndoc_text,\nreport,\nspecialty,\nSNOWFLAKE.CORTEX.COMPLETE('llama3.1-405b', concat(doc_text||'Given this medical transcript, list the unique major ICD10-CM diagnosis code in this format ONLY: X##.#. Please provide the response in the form of a python list. Do not provide explanation')) as AI_ICD10_Code\nfrom docs_and_text;\n",
   "execution_count": null
  },
  {
   "cell_type": "code",
   "id": "6ff28a79-b2b6-4bef-873d-13fdb2184f4d",
   "metadata": {
    "language": "sql",
    "name": "llama_icd_largemodel",
    "collapsed": false
   },
   "outputs": [],
   "source": "select * from LLAMA_OUTPUT_ICD limit 5;",
   "execution_count": null
  },
  {
   "cell_type": "markdown",
   "id": "3635b754-cdd4-4592-bc55-fa676c7d62b3",
   "metadata": {
    "name": "splitdataset",
    "collapsed": false
   },
   "source": "* Carry 70:30 split for model fine tuning"
  },
  {
   "cell_type": "code",
   "id": "26e8fd96-15d5-4538-a0ca-c557d502cbdf",
   "metadata": {
    "language": "sql",
    "name": "split_dataset",
    "collapsed": false
   },
   "outputs": [],
   "source": "CREATE OR REPLACE TEMPORARY TABLE temp_split_table AS\nWITH numbered_rows AS (\n  SELECT *,\n         ROW_NUMBER() OVER (ORDER BY RANDOM()) AS row_num,\n         COUNT(*) OVER() AS total_rows\n  FROM LLAMA_OUTPUT_ICD\n)\n\n\nSELECT *,\n       CASE \n         WHEN row_num < total_rows * 0.7 THEN 'train'\n         WHEN row_num > total_rows * 0.7 AND row_num <= total_rows * 0.85 THEN 'val'\n         ELSE 'test'\n       END AS split\nFROM numbered_rows;\n\nCREATE or replace TABLE  codeextraction_training AS\nSELECT relative_path,\ndoc_text,\nreport,\nspecialty,AI_ICD10_Code\nFROM temp_split_table\nWHERE split = 'train';\n\nCREATE  or replace TABLE   codeextraction_test AS\nSELECT relative_path,\ndoc_text,\nreport,\nspecialty,AI_ICD10_Code\nFROM temp_split_table\nWHERE split = 'test';\n\nCREATE  or replace TABLE codeextraction_val AS\nSELECT relative_path,\ndoc_text,\nreport,\nspecialty,AI_ICD10_Code\nFROM temp_split_table\nWHERE split = 'val';\n\n",
   "execution_count": null
  },
  {
   "cell_type": "code",
   "id": "b64161d2-24a3-48f4-987f-b3eb452ec992",
   "metadata": {
    "language": "sql",
    "name": "sampledata_viewer",
    "collapsed": false
   },
   "outputs": [],
   "source": "select * from codeextraction_training limit 2;",
   "execution_count": null
  },
  {
   "cell_type": "markdown",
   "id": "25d9f152-1600-47ac-9af4-cf4965e862c3",
   "metadata": {
    "name": "BASELINE",
    "collapsed": false
   },
   "source": "# BASELINE OUTPUT FROM THE SMALLER MODEL llama3-8b (Optional)"
  },
  {
   "cell_type": "code",
   "id": "0bd9a3a9-b456-4ce0-87f4-4e70ed426cc0",
   "metadata": {
    "language": "sql",
    "name": "llama38b_ICDOutput_smallmodel",
    "collapsed": false
   },
   "outputs": [],
   "source": "create or replace table llama38b_ICDOutput as select relative_path,\ndoc_text,\nreport,\nspecialty,\nAI_ICD10_Code,\nSNOWFLAKE.CORTEX.COMPLETE('llama3-8b', concat(doc_text||'Given this medical transcript, list the unique major ICD10-CM diagnosis code in this format ONLY: X##.#. Please provide the response in the form of a python list. Do not provide explanation')) as llama38b_ICD10_Code\nfrom LLAMA_OUTPUT_ICD;",
   "execution_count": null
  },
  {
   "cell_type": "code",
   "id": "534426eb-7066-4018-bee7-ed271c280ba2",
   "metadata": {
    "language": "sql",
    "name": "basemodelpromptengineered",
    "collapsed": false
   },
   "outputs": [],
   "source": "SELECT * FROM llama38b_ICDOutput limit 5;",
   "execution_count": null
  },
  {
   "cell_type": "markdown",
   "id": "558b5e56-1550-4348-b9f7-892a8e3aae06",
   "metadata": {
    "name": "finetuning",
    "collapsed": false
   },
   "source": "# FINE TUNE llama3-8b\n\nCortex Fine-tuning allows users to leverage parameter-efficient fine-tuning (PEFT) to create customized adaptors for use with pre-trained models on more specialized tasks. If you don’t want the high cost of training a large model from scratch but need better latency and results than you’re getting from prompt engineering or even retrieval augmented generation (RAG) methods, fine-tuning an existing large model is an option. Fine-tuning allows you to use examples to adjust the behavior of the model and improve the model’s knowledge of domain-specific tasks."
  },
  {
   "cell_type": "code",
   "id": "99149d0d-59c0-4f8c-82da-feb081f488c0",
   "metadata": {
    "language": "sql",
    "name": "FineTuningllama3_8b",
    "collapsed": false
   },
   "outputs": [],
   "source": "SELECT SNOWFLAKE.CORTEX.FINETUNE(\n    'CREATE', \n    -- Custom model name, make sure name below is unique\n    'FINETUNE_llama38b_ICDCODES',\n    -- Base model name\n    'llama3-8b',\n    -- Training data query\n    'SELECT doc_text || '' Given this medical transcript, list the unique major ICD10-CM diagnosis code in this format ONLY: X##.#. Please provide the response in the form of a python list. Do not provide explanation '' AS PROMPT, AI_ICD10_Code AS COMPLETION FROM codeextraction_training',\n    -- Test data query \n    'SELECT doc_text || '' Given this medical transcript, list the unique major ICD10-CM diagnosis code in this format ONLY: X##.#. Please provide the response in the form of a python list. Do not provide explanation '' AS PROMPT, AI_ICD10_Code AS COMPLETION FROM codeextraction_val'\n);\n",
   "execution_count": null
  },
  {
   "cell_type": "code",
   "id": "cc5c254e-b9c6-45ab-9488-f844cefdc21d",
   "metadata": {
    "language": "sql",
    "name": "describeprocess",
    "collapsed": false
   },
   "outputs": [],
   "source": "-- The output is the job ID of the fine-tuning job:\nSelect SNOWFLAKE.CORTEX.FINETUNE(\n  'DESCRIBE',\n'CortexFineTuningWorkflow_5f63e53e-0c49-4af7-93c5-82675b433629');--replace <> with the workflow id returned from the execution of last cell",
   "execution_count": null
  },
  {
   "cell_type": "markdown",
   "id": "ab8e900a-9800-4e1c-a3c0-74e1219c07fd",
   "metadata": {
    "name": "STOP",
    "collapsed": false
   },
   "source": "# STOP -  PROCEED ONLY WHEN THE STATUS FIELD FOR THE JOB CHANGES TO SUCCESS IN THE PREVIOUS CELL"
  },
  {
   "cell_type": "markdown",
   "id": "350aa1b6-e3f9-4368-a296-fb9ae6417217",
   "metadata": {
    "name": "inference",
    "collapsed": false
   },
   "source": "# INFERENCE USING FINE TUNED MODEL (AFTER ENSURING THE MOEL TUNING WAS SUCCESSFUL)"
  },
  {
   "cell_type": "code",
   "id": "14a94735-1480-44fd-bb3f-2883079cb71d",
   "metadata": {
    "language": "sql",
    "name": "createtable_llama38b_ICD_Code",
    "collapsed": false
   },
   "outputs": [],
   "source": "create or replace TABLE  llama38b_ICD_Codes as select relative_path,\ndoc_text,\nreport,\nspecialty,\nSNOWFLAKE.CORTEX.COMPLETE('FINETUNE_llama38b_ICDCODES', concat(doc_text||'Given this medical transcript, list the unique major ICD10-CM diagnosis code in this format ONLY: X##.#. Please provide the response in the form of a python list. Do not provide explanation')) as FT_ICD10_Code\nfrom codeextraction_training;",
   "execution_count": null
  },
  {
   "cell_type": "markdown",
   "id": "6571b578-c550-4121-9ed8-844c319a8d27",
   "metadata": {
    "name": "eval",
    "collapsed": false
   },
   "source": "# Benefits of using the Fine Tuned Model:\n\n## 1. Higher Accuracy as that of Larger Model -> HIGH ACCURACY\n## 2. Smaller Model -> LOWER COST\n## 3. Higher Throughput -> Smaller Model -> HIGH THROUGHPUT"
  },
  {
   "cell_type": "markdown",
   "id": "83936f5a-b846-45fc-b78d-d79e3c76b19c",
   "metadata": {
    "name": "mk7",
    "collapsed": false
   },
   "source": "## Extract codes from Fine Tuned Model"
  },
  {
   "cell_type": "code",
   "id": "e6e8a3c1-c787-46ad-b390-f6f9dc70dcfa",
   "metadata": {
    "language": "python",
    "name": "llama38b_ICD_Code",
    "collapsed": false
   },
   "outputs": [],
   "source": "llama38b_ICD_Code_FT_df=session.table('llama38b_ICD_Codes').to_pandas()\nllama38b_ICD_Code_FT_df.head(50)",
   "execution_count": null
  },
  {
   "cell_type": "markdown",
   "id": "e1ede212-fb79-429f-9a26-34463cd2978d",
   "metadata": {
    "name": "simpleapp",
    "collapsed": false
   },
   "source": "### SIMPLE INTERACTIVE APP FOR USING THE ICD CODE FOR CALCULATING PATIENT RISK SCORE"
  },
  {
   "cell_type": "code",
   "id": "1cc2e7ab-fc7a-49d1-a92a-1997ba4471df",
   "metadata": {
    "language": "python",
    "name": "visualize",
    "collapsed": false
   },
   "outputs": [],
   "source": "# Import python packages\nimport streamlit as st\nfrom snowflake.snowpark.context import get_active_session\nimport pandas as pd\nimport re\nimport ast\n\n\n\n\nst.title('❄️ Medical Coding Assistant ❄️')\nst.subheader(\n    \"\"\"Calculate the risk score accurately by leveraging ICD10 Codes extracted by Fine Tuning a Llama3 with Cortex AI\n    \"\"\"\n)\n\n# Get the current credentials\nsession = get_active_session()\n\n\n\npatient_data = {\n    'patient_id': [1, 2, 3, 4, 5, 6, 7],\n    'name': ['John Doe', 'Jane Smith', 'Alice Johnson', 'Bob Brown', \n             'Charlie Williams', 'Emily Davis', 'Frank Harris'],\n    'age': [45, 62, 30, 50, 40, 55, 38],\n    'icd_code': [\n        'D66.0',\n    'C11.9',\n    'H04.89',\n    'N62.9',\n    'N63.9',\n    'I25.5', \n    'Z95.1'\n    ]\n}\n\n\npatient_df = pd.DataFrame(patient_data)\nicd_explanations = {\n    'M21.9': 'Malignant neoplasm of the upper lobe of the bronchus.',\n    'M25.5': 'Other specified diseases of the kidney.',\n    'C11.9': 'unspecified malignant neoplasm of the nasopharynx',\n    'H04.89': 'disorders of the lacrimal system',\n    'N62.9': 'Hypertrophy of breast',\n    'N63.9': 'unspecified lump in the breast',\n    'I25.5': 'ischemic cardiomyopathy', \n    'Z95.1': 'presence of an aortocoronary bypass graft', \n    'Z95.2': 'presence of a prosthetic heart valve', \n    'D66.0':'hereditary factor VIII deficiency'\n    \n}\nreports_df = session.table(\"llama38b_ICD_Codes\")\nreports_df =reports_df.to_pandas()\n\ndef display_icd_code_with_explanation(icd_code):\n    explanation = icd_explanations.get(icd_code, 'Explanation not available')\n    return f\"ICD Code: {icd_code} - {explanation}\"\n\ndef calculate_risk_score(icd_code):\n    risk_scores = {\n        'M21.9': 8.0,\n        'M25.5': 5.5,\n        'C11.9': 6.8,\n        'H04.89': 9.0,\n        'N62.9': 8.4,\n        'N63.9': 9.0,\n        'I25.5': 8.6, \n        'Z95.1': 8.9, \n        'Z95.2': 9.5, \n        'D66.0': 5.0\n    }\n    \n    # If it's a single code, return its score\n    if isinstance(icd_code, str):\n        return risk_scores.get(icd_code, 5.0)\n    \n    elif isinstance(icd_code, list):\n        scores = [risk_scores.get(code, 5.0) for code in icd_code]\n        return sum(scores) / len(scores)# Average score\n    \n\npatient_df['risk_score'] = patient_df['icd_code'].apply(calculate_risk_score)\n\n\n\n# Select a patient by name\npatient_name = st.selectbox(\"Select Patient\", patient_df['name'])\n\n# Get the selected patient’s data\nselected_patient = patient_df[patient_df['name'] == patient_name].iloc[0]\npatient_id = selected_patient['patient_id']\npatient_icd_code = selected_patient['icd_code']\npatient_risk_score = selected_patient['risk_score']\nicd_info_list = []\nrisk_scores = []\n\n# Check if the icd_code is a list (multiple conditions)\nif isinstance(patient_icd_code, list):\n    for icd in patient_icd_code:\n        icd_info = display_icd_code_with_explanation(icd)\n        icd_info_list.append(icd_info)\n        risk_scores.append(calculate_risk_score(icd))\nelse:\n    icd_info = display_icd_code_with_explanation(patient_icd_code)\n    icd_info_list.append(icd_info)\n    risk_scores.append(calculate_risk_score(patient_icd_code))\n\n# Join ICD information and calculate average risk score\nicd_info_str = \", \".join(icd_info_list)\naverage_risk_score = sum(risk_scores) / len(risk_scores)\nst.write(\"---\")\n# Streamlit App\nst.subheader(f\"{icd_info_str}\")\n\nst.write(f\"**Average Risk Score:** {average_risk_score:.2f}\")\n\nst.write(\"---\")\n\n# Associated Medical Reports section\ndef extract_icd_codes(icd_code_str):\n    \"\"\"Parse and extract ICD codes from a string.\"\"\"\n    icd_codes_part = icd_code_str.split(\"codes:\")[-1].strip()\n    try:\n        icd_codes_list = ast.literal_eval(icd_codes_part)\n        cleaned_icd_codes = [code.strip(\"'\") for code in icd_codes_list]\n        return cleaned_icd_codes\n    except (SyntaxError, ValueError):\n        return []\n\n# Extract ICD codes from all reports\nall_icd_codes = []\nfor icd_code_str in reports_df['FT_ICD10_CODE']:\n    all_icd_codes.extend(extract_icd_codes(icd_code_str))\n\n# Get unique ICD codes in reports\nunique_icd_codes = list(set(all_icd_codes))\nst.subheader(\"Associated Medical Reports\")\n\n\n# Check if patient_icd_code is a list and filter accordingly\nif isinstance(patient_icd_code, list):\n    st.write(f\"Patient ICD Codes: {patient_icd_code}\")\n    \n    # Retrieve matching codes by checking if any patient ICD code exists in the reports\n    matching_codes = set(patient_icd_code) & set(unique_icd_codes)\n    \n    \n    # Filter reports using the matching codes\n    filtered_reports = reports_df[reports_df['FT_ICD10_CODE'].apply(lambda x: any(code in x for code in matching_codes))]\nelse:\n    st.write(f\"Patient ICD Code: {patient_icd_code}\")\n    filtered_reports = reports_df[reports_df['FT_ICD10_CODE'].str.contains(patient_icd_code)]\n\nif not filtered_reports.empty:\n    with st.expander(\"View Reports\"):  # Add parentheses and a label for the expander\n        st.write(f\"Found {len(filtered_reports)} associated reports:\")\n        for idx, report in filtered_reports.iterrows():\n            st.write(f\"**Report Name:** {report['RELATIVE_PATH']}\")\n            st.write(f\"**Report Description:** {report['REPORT']}\")\n            st.write(f\"**Speciality:** {report['SPECIALTY']}\")\n            st.write(f\"**Extracted Text:** {report['DOC_TEXT']}\")\n            st.write(\"---\")\nelse:\n    with st.expander(\"No Reports Found\"):  # Add parentheses and a label for the expander\n        st.write(\"No associated reports found for this ICD code(s).\")\n",
   "execution_count": null
  },
  {
   "cell_type": "markdown",
   "id": "47f5f0d2-1213-41fd-8619-f3236cc0c80d",
   "metadata": {
    "name": "endofnotebook",
    "collapsed": false
   },
   "source": "# END OF NOTEBOOK"
  }
 ]
}